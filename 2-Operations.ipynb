{
 "cells": [
  {
   "cell_type": "markdown",
   "metadata": {},
   "source": [
    "This notebook covers the basics of operations on Series and DataFrames. Again, a quick check on whether you know the material.\n",
    "\n",
    "1. Can you use numpy ufuncs (e.g. `np.exp`) on DataFrames?\n",
    "2. What happens when you add two DataFrames with different indicies?\n",
    "\n",
    "If you know the answers already, you can skip to our first [application](#Application:-Economic-Timeseries). Maybe download some additional datasets from [FRED](https://research.stlouisfed.org) and play with those; try to figure out how to fix the economy. You've got about 5 minutes."
   ]
  },
  {
   "cell_type": "markdown",
   "metadata": {},
   "source": [
    "`DataFrame`s and `Series` support all the usual math operations. Additionally,\n",
    "numpy [`ufuncs`](http://docs.scipy.org/doc/numpy/reference/ufuncs.html) (universial function, e.g. `np.log`) can  be used as expected."
   ]
  },
  {
   "cell_type": "code",
   "execution_count": null,
   "metadata": {
    "collapsed": true,
    "hide_input": false
   },
   "outputs": [],
   "source": [
    "import numpy as np\n",
    "import pandas as pd\n",
    "\n",
    "from ph2t import side_by_side  # came with the notebooks"
   ]
  },
  {
   "cell_type": "markdown",
   "metadata": {},
   "source": [
    "# `ufuncs`\n",
    "\n",
    "`ufunc`s operate on arrays elementwise.\n",
    "They can be used just like you'd expect on a `Series` or `DataFrame`."
   ]
  },
  {
   "cell_type": "code",
   "execution_count": null,
   "metadata": {
    "collapsed": false
   },
   "outputs": [],
   "source": [
    "np.random.seed(42)\n",
    "df = pd.DataFrame(np.random.uniform(0, 10, size=(3, 3)))\n",
    "df"
   ]
  },
  {
   "cell_type": "code",
   "execution_count": null,
   "metadata": {
    "collapsed": false
   },
   "outputs": [],
   "source": [
    "df + 1"
   ]
  },
  {
   "cell_type": "code",
   "execution_count": null,
   "metadata": {
    "collapsed": false
   },
   "outputs": [],
   "source": [
    "df ** 2"
   ]
  },
  {
   "cell_type": "code",
   "execution_count": null,
   "metadata": {
    "collapsed": false
   },
   "outputs": [],
   "source": [
    "np.log(df)"
   ]
  },
  {
   "cell_type": "markdown",
   "metadata": {},
   "source": [
    "For any decent-sized `DataFrame`, using a `ufunc` will be much faster than applying the function to each row in a for loop or by using `DataFrame.apply`."
   ]
  },
  {
   "cell_type": "markdown",
   "metadata": {},
   "source": [
    "# Alignment"
   ]
  },
  {
   "cell_type": "markdown",
   "metadata": {},
   "source": [
    "When you do binary operations between two `numpy` arrays, like `+`, the arrays are in some sense aligned by position.\n",
    "It's up to you to ensure that the correct values are in the same position across arrays.\n",
    "\n",
    "In pandas, we rely on row and column *labels* to do the alignment for us.\n",
    "Pandas automatically aligns by label when doing operations between `DataFrames` and `Series`."
   ]
  },
  {
   "cell_type": "code",
   "execution_count": null,
   "metadata": {
    "collapsed": false
   },
   "outputs": [],
   "source": [
    "df1 = pd.DataFrame({'A': [1, 2, 3], 'B': [4, 5, 6]})\n",
    "df2 = pd.DataFrame({'A': [2, 4, 6], 'B': [1, 4, 9]})\n",
    "\n",
    "side_by_side(df1, df2, \"df1\", \"df2\")"
   ]
  },
  {
   "cell_type": "code",
   "execution_count": null,
   "metadata": {
    "collapsed": false
   },
   "outputs": [],
   "source": [
    "df1 + df2"
   ]
  },
  {
   "cell_type": "code",
   "execution_count": null,
   "metadata": {
    "collapsed": false
   },
   "outputs": [],
   "source": [
    "# Note the index order\n",
    "df2 = pd.DataFrame({'A': [6, 2, 4], 'B': [9, 1, 4]}, index=[2, 0, 1])\n",
    "side_by_side(df1, df2, 'df1', 'df2')"
   ]
  },
  {
   "cell_type": "code",
   "execution_count": null,
   "metadata": {
    "collapsed": false
   },
   "outputs": [],
   "source": [
    "df1 + df2"
   ]
  },
  {
   "cell_type": "code",
   "execution_count": null,
   "metadata": {
    "collapsed": false
   },
   "outputs": [],
   "source": [
    "# Different index entirely\n",
    "df3 = pd.DataFrame(np.random.randn(5, 3), columns=['A', 'B', 'C'])\n",
    "side_by_side(df1, df3, 'df1', 'df3')"
   ]
  },
  {
   "cell_type": "code",
   "execution_count": null,
   "metadata": {
    "collapsed": false
   },
   "outputs": [],
   "source": [
    "df1 + df3"
   ]
  },
  {
   "cell_type": "markdown",
   "metadata": {},
   "source": [
    "# Recap\n",
    "\n",
    "- `ufuncs` work just fine\n",
    "- Operations **align by label** and then are performed"
   ]
  },
  {
   "cell_type": "markdown",
   "metadata": {},
   "source": [
    "# Application: Economic Timeseries"
   ]
  },
  {
   "cell_type": "code",
   "execution_count": null,
   "metadata": {
    "collapsed": false
   },
   "outputs": [],
   "source": [
    "from itertools import chain\n",
    "\n",
    "import pandas as pd\n",
    "\n",
    "import seaborn as sns\n",
    "import statsmodels.api as sm\n",
    "from pandas_datareader import data\n",
    "\n",
    "import matplotlib.pyplot as plt\n",
    "from toolz import partitionby\n",
    "\n",
    "%matplotlib inline\n",
    "pd.options.display.max_rows = 10\n",
    "sns.set_style('ticks')"
   ]
  },
  {
   "cell_type": "markdown",
   "metadata": {},
   "source": [
    "Pandas recently split off some web-based data reading functionality into its own package `pandas-datareader`. Earlier, I used it to grab data from [FRED](http://research.stlouisfed.org).\n",
    "\n",
    "```python\n",
    "gdp = data.DataReader(\"GDP\", data_source='fred', start='1929', end='2014').squeeze()\n",
    "cpi = data.DataReader(\"CPIAUCSL\", data_source='fred', start='1947-01', end='2015-05').squeeze()\n",
    "rec = data.DataReader('USREC', data_source='fred', start='1854-12-01', end='2014-08-01').squeeze()\n",
    "gdp.to_csv('data/gdp.csv', header=True)\n",
    "cpi.to_csv('data/cpi.csv', header=True)\n",
    "rec.to_csv('data/rec.csv', header=True)\n",
    "```"
   ]
  },
  {
   "cell_type": "code",
   "execution_count": null,
   "metadata": {
    "collapsed": false
   },
   "outputs": [],
   "source": [
    "with open('data/gdp.csv') as f:\n",
    "    print(''.join(f.readlines(100)))"
   ]
  },
  {
   "cell_type": "code",
   "execution_count": null,
   "metadata": {
    "collapsed": true
   },
   "outputs": [],
   "source": [
    "pd.read_csv?"
   ]
  },
  {
   "cell_type": "code",
   "execution_count": null,
   "metadata": {
    "collapsed": false
   },
   "outputs": [],
   "source": [
    "gdp = pd.read_csv('data/gdp.csv', index_col='DATE', parse_dates=['DATE']).squeeze()\n",
    "cpi = pd.read_csv('data/cpi.csv', index_col='DATE', parse_dates=['DATE']).squeeze()\n",
    "rec = pd.read_csv('data/rec.csv', index_col='DATE', parse_dates=['DATE']).squeeze()"
   ]
  },
  {
   "cell_type": "code",
   "execution_count": null,
   "metadata": {
    "collapsed": false
   },
   "outputs": [],
   "source": [
    "gdp.head(n=5)"
   ]
  },
  {
   "cell_type": "code",
   "execution_count": null,
   "metadata": {
    "collapsed": false
   },
   "outputs": [],
   "source": [
    "gdp.tail()"
   ]
  },
  {
   "cell_type": "code",
   "execution_count": null,
   "metadata": {
    "collapsed": false
   },
   "outputs": [],
   "source": [
    "cpi.head()"
   ]
  },
  {
   "cell_type": "code",
   "execution_count": null,
   "metadata": {
    "collapsed": false
   },
   "outputs": [],
   "source": [
    "rec.head()"
   ]
  },
  {
   "cell_type": "markdown",
   "metadata": {},
   "source": [
    "# Table Summarization"
   ]
  },
  {
   "cell_type": "markdown",
   "metadata": {},
   "source": [
    "Pandas has a few methods for summarizing the contents of a DataFrame or Series"
   ]
  },
  {
   "cell_type": "code",
   "execution_count": null,
   "metadata": {
    "collapsed": false
   },
   "outputs": [],
   "source": [
    "print('mean:    ', gdp.mean())\n",
    "print('std:     ', gdp.std())\n",
    "print('quantile:', gdp.quantile(.66))\n",
    "print('max:     ', gdp.max())"
   ]
  },
  {
   "cell_type": "markdown",
   "metadata": {},
   "source": [
    "It can also be useful to get the argmax, or the index label where the maximum occurs."
   ]
  },
  {
   "cell_type": "code",
   "execution_count": null,
   "metadata": {
    "collapsed": false
   },
   "outputs": [],
   "source": [
    "gdp.idxmax()"
   ]
  },
  {
   "cell_type": "markdown",
   "metadata": {},
   "source": [
    "# Plotting"
   ]
  },
  {
   "cell_type": "markdown",
   "metadata": {},
   "source": [
    "DataFrames and Series can make decent looking plots with a few lines of code.\n",
    "\n",
    "I wanted to incude bars for recession indicators.\n",
    "The only pandas-relavent bit is `Series.iteritems`, which you *almost* never want to use since it's relatively slow."
   ]
  },
  {
   "cell_type": "code",
   "execution_count": null,
   "metadata": {
    "collapsed": false
   },
   "outputs": [],
   "source": [
    "next(rec.iteritems())  "
   ]
  },
  {
   "cell_type": "code",
   "execution_count": null,
   "metadata": {
    "collapsed": true
   },
   "outputs": [],
   "source": [
    "groups = partitionby(lambda x: x[1] == 1, rec.iteritems())\n",
    "recessions = filter(lambda x: x[0][1] == 1, groups)\n",
    "spans = [(months[0][0], months[-1][0]) for months in recessions]"
   ]
  },
  {
   "cell_type": "code",
   "execution_count": null,
   "metadata": {
    "collapsed": false
   },
   "outputs": [],
   "source": [
    "def add_rec_bars(ax=None):\n",
    "    ax = ax or plt.gca()\n",
    "    ylim = ax.get_ylim()\n",
    "    for span in spans:\n",
    "        ax.fill_between(span, *ax.get_ylim(), color='k', alpha=.25)\n",
    "    ax.set_ylim(*ylim)\n",
    "    return ax\n",
    "\n",
    "sns.set(style=\"white\", context=\"talk\")\n",
    "plt.rcParams['figure.figsize'] = (12, 6)"
   ]
  },
  {
   "cell_type": "code",
   "execution_count": null,
   "metadata": {
    "collapsed": false
   },
   "outputs": [],
   "source": [
    "ax = gdp.plot(title='GDP', linewidth=3)\n",
    "add_rec_bars(ax)\n",
    "sns.despine()"
   ]
  },
  {
   "cell_type": "code",
   "execution_count": null,
   "metadata": {
    "collapsed": false
   },
   "outputs": [],
   "source": [
    "ax = cpi.plot(title='CPI', linewidth=3)\n",
    "add_rec_bars(ax)\n",
    "sns.despine()"
   ]
  },
  {
   "cell_type": "markdown",
   "metadata": {},
   "source": [
    "Let's put some of those operations to use."
   ]
  },
  {
   "cell_type": "markdown",
   "metadata": {},
   "source": [
    "# Execrise: Convert CPI to be base 2009\n",
    "\n",
    "CPI is the Consumer Price Index. The Index part just means that it doesn't really have any units,\n",
    "just some (arbitrary) time span that is set to 100, and every other observation is relative to that time.\n",
    "The CPI we have is indexed to the average over 1982-1984.\n",
    "\n",
    "**Convert the CPI base-2009 by dividing the entire Series `cpi` by the average CPI in 2009.**\n",
    "\n",
    "Try breaking the problem into pieces:\n",
    "1. Select just the rows from 2009 (`.loc`)\n",
    "  + Timeseries (dates in the index) have [speical rules](http://pandas.pydata.org/pandas-docs/stable/timeseries.html#datetimeindex-partial-string-indexing) for slicing. Pass in a string with the subset you want\n",
    "    + `.loc['2010-01-01']` select all observations from that day\n",
    "    + `.loc['2010-01']` selects all observations from that month\n",
    "2. calculate the average on those rows\n",
    "3. divide `cpi` by that number (assign that to `cpi09`)"
   ]
  },
  {
   "cell_type": "code",
   "execution_count": null,
   "metadata": {
    "collapsed": false
   },
   "outputs": [],
   "source": [
    "# Your code goes here\n",
    "# Assign the result to cpi09"
   ]
  },
  {
   "cell_type": "code",
   "execution_count": null,
   "metadata": {
    "collapsed": false
   },
   "outputs": [],
   "source": [
    "%load solutions/solutions_operations.py"
   ]
  },
  {
   "cell_type": "code",
   "execution_count": null,
   "metadata": {
    "collapsed": false
   },
   "outputs": [],
   "source": [
    "ax = cpi09.plot(title='CPI-2009')\n",
    "add_rec_bars(ax=ax)\n",
    "sns.despine();"
   ]
  },
  {
   "cell_type": "markdown",
   "metadata": {},
   "source": [
    "Next, try calculating real GDP, with 2009 as the base year.\n",
    "This is defined to be `gdp` divided by the base-2009 CPI for that time period.\n",
    "\n",
    "Call the result `rgdp` and try plotting it."
   ]
  },
  {
   "cell_type": "code",
   "execution_count": null,
   "metadata": {
    "collapsed": true
   },
   "outputs": [],
   "source": [
    "# Your code here\n",
    "rgdp = ..."
   ]
  },
  {
   "cell_type": "markdown",
   "metadata": {},
   "source": [
    "If you have trouble with the plotting, look into the `.fillna` and `.dropna` methods.\n",
    "The next section explains what's going on."
   ]
  },
  {
   "cell_type": "markdown",
   "metadata": {},
   "source": [
    "# Real GDP: Alignment\n",
    "\n",
    "Let's say we want real GDP (adjusted for inflation).\n",
    "\n",
    "\\begin{equation}\n",
    "    rGDP_t = \\frac{GDP_t}{CPI_t}\n",
    "\\end{equation}\n",
    "\n",
    "Problem: our CPI is monthly but GDP is quarterly. Also the two Series have different start and end points. If you didn't have automatic label alignment, you'd have to jump through hoops to select the correct subset of each series.\n",
    "\n",
    "\n",
    "```python\n",
    "# this is boolean indexing, we'll see more later\n",
    "gdp / cpi09[(cpi.index.month % 3 == 1) & (cpi09.index.year <= 2014)]\n",
    "```"
   ]
  },
  {
   "cell_type": "markdown",
   "metadata": {},
   "source": [
    "... but that's unneccesary. The operations will automatically align for you."
   ]
  },
  {
   "cell_type": "code",
   "execution_count": null,
   "metadata": {
    "collapsed": false
   },
   "outputs": [],
   "source": [
    "rgdp = (gdp / cpi09)\n",
    "rgdp"
   ]
  },
  {
   "cell_type": "markdown",
   "metadata": {},
   "source": [
    "The `NaN`s are missing value indicators. `NaN`s can crop up for many reasons, but in this case it's because the labels didn't overlap perfectly.\n",
    "\n",
    "Binary operations (addition, multiplication, ...) consists of two steps.\n",
    "\n",
    "1. align by label\n",
    "2. operation"
   ]
  },
  {
   "cell_type": "code",
   "execution_count": null,
   "metadata": {
    "collapsed": false
   },
   "outputs": [],
   "source": [
    "l, r = gdp.align(cpi09)\n",
    "side_by_side(l.head(), r.head())\n"
   ]
  },
  {
   "cell_type": "markdown",
   "metadata": {},
   "source": [
    "While binary operations *propogate* missing values, aggregations like `sum` or `mean`, will ignore them.\n",
    "Pandas provides methods for detecting missing data `.isnull`, filling missing data `.fillna`,\n",
    "or you can dropping it, which is what I'll do here."
   ]
  },
  {
   "cell_type": "code",
   "execution_count": null,
   "metadata": {
    "collapsed": false
   },
   "outputs": [],
   "source": [
    "rgdp.dropna()"
   ]
  },
  {
   "cell_type": "markdown",
   "metadata": {},
   "source": [
    "Pandas methods are non-mutating by default. This means that even though I called `.dropna()` above, `rgdp` still has missing values."
   ]
  },
  {
   "cell_type": "code",
   "execution_count": null,
   "metadata": {
    "collapsed": false
   },
   "outputs": [],
   "source": [
    "rgdp"
   ]
  },
  {
   "cell_type": "markdown",
   "metadata": {},
   "source": [
    "To capture the change, assign a name to the result. In this case, I just the same name `rgdp`."
   ]
  },
  {
   "cell_type": "code",
   "execution_count": null,
   "metadata": {
    "collapsed": false
   },
   "outputs": [],
   "source": [
    "real_gdp = rgdp.dropna()\n",
    "real_gdp.head()"
   ]
  },
  {
   "cell_type": "code",
   "execution_count": null,
   "metadata": {
    "collapsed": false
   },
   "outputs": [],
   "source": [
    "ax = gdp.pct_change().plot(\n",
    "    figsize=(15, 5), label='GDP', legend=True, linewidth=2\n",
    ")\n",
    "real_gdp.pct_change().plot(\n",
    "    ax=ax, label='real GDP', legend=True, linewidth=2\n",
    ")\n",
    "add_rec_bars(ax)\n",
    "sns.despine()"
   ]
  },
  {
   "cell_type": "markdown",
   "metadata": {},
   "source": [
    "# Recap\n",
    "\n",
    "DataFrames allow you to rapidly explore data, iterating on ideas.\n",
    "\n",
    "- `ufunc`s work as expected\n",
    "- operations between pandas objects automatically align on labels"
   ]
  }
 ],
 "metadata": {
  "kernelspec": {
   "display_name": "Python 3",
   "language": "python",
   "name": "python3"
  },
  "language_info": {
   "codemirror_mode": {
    "name": "ipython",
    "version": 3
   },
   "file_extension": ".py",
   "mimetype": "text/x-python",
   "name": "python",
   "nbconvert_exporter": "python",
   "pygments_lexer": "ipython3",
   "version": "3.5.2"
  }
 },
 "nbformat": 4,
 "nbformat_minor": 0
}
